{
 "cells": [
  {
   "cell_type": "code",
   "execution_count": null,
   "metadata": {},
   "outputs": [],
   "source": [
    "from pystac_client import Client\n",
    "from odc.stac import load\n",
    "\n",
    "import numpy as np\n",
    "import xarray as xr\n",
    "import folium"
   ]
  },
  {
   "cell_type": "code",
   "execution_count": null,
   "metadata": {},
   "outputs": [],
   "source": [
    "# Fiji bounding box\n",
    "lower_left =  -18.125, 177.275\n",
    "upper_right = -18.075, 177.325\n",
    "bbox = [lower_left[1], lower_left[0], upper_right[1], upper_right[0]]\n",
    "\n",
    "# Create a STAC client\n",
    "client = Client.open(\"https://earth-search.aws.element84.com/v1\")\n",
    "\n",
    "items = client.search(\n",
    "    collections=[\"sentinel-2-c1-l2a\"],\n",
    "    bbox=bbox,\n",
    "    datetime=\"2024-07/2024-09\",\n",
    "    query={\"eo:cloud_cover\": {\"lt\": 30}},\n",
    ").item_collection()\n",
    "\n",
    "print(f\"Found {len(items)} items\")"
   ]
  },
  {
   "cell_type": "code",
   "execution_count": null,
   "metadata": {},
   "outputs": [],
   "source": [
    "data = load(\n",
    "    items,\n",
    "    chunks={},\n",
    "    bbox=bbox,\n",
    "    groupby=\"solar_day\",\n",
    ").compute()\n",
    "\n",
    "# nodata, cloud shadow, medium cloud, high cloud\n",
    "mask_flags = [1, 3, 8, 9]\n",
    "cloud_mask = ~data.scl.isin(mask_flags)\n",
    "masked = data.where(cloud_mask).drop_vars(\"scl\")\n",
    "\n",
    "scaled = (masked.where(masked != 0) * 0.0001).clip(0, 1)\n",
    "\n",
    "scaled"
   ]
  },
  {
   "cell_type": "code",
   "execution_count": null,
   "metadata": {},
   "outputs": [],
   "source": [
    "scaled[[\"red\", \"green\", \"blue\"]].to_array().plot.imshow(col=\"time\", col_wrap=2, robust=True, size=5)"
   ]
  },
  {
   "cell_type": "code",
   "execution_count": null,
   "metadata": {},
   "outputs": [],
   "source": [
    "# water body id\n",
    "def wbi(r, g, b, nr, s1, s2, filter_uabs=True):\n",
    "    ws = np.zeros(r.shape)\n",
    "\n",
    "    ndvi = (nr - r) / (nr + r)\n",
    "    mndwi = (g - s1) / (g + s1)\n",
    "    ndwi = (g - nr) / (g + nr)\n",
    "    ndwi_l = (nr - s1) / (nr + s1)\n",
    "    aweish = b + 2.5 * g - 1.5 * (nr + s1) - 0.25 * s2\n",
    "    aweinsh = 4 * (g - s1) - (0.25 * nr + 2.75 * s1)\n",
    "    dbsi = ((s1 - g) / (s1 + g)) - ndvi\n",
    "\n",
    "    ws_one_logic = [\n",
    "        mndwi > 0.2,\n",
    "        ndwi > 0.2,\n",
    "        aweinsh > 0.1879,\n",
    "        aweish > 0.1112,\n",
    "        ndvi < -0.2,\n",
    "        ndwi_l > 1,\n",
    "    ]\n",
    "\n",
    "    ws_one = np.logical_or.reduce(ws_one_logic)\n",
    "    ws = np.where(ws_one, 1, ws)\n",
    "\n",
    "    ws_and_logic = [\n",
    "        np.logical_and.reduce([filter_uabs and ws == 1]),\n",
    "        np.logical_or.reduce([aweinsh <= -0.03, dbsi > 0]),\n",
    "    ]\n",
    "\n",
    "    ws_zero = np.logical_and.reduce(ws_and_logic)\n",
    "    ws = np.where(ws_zero, 0, ws)\n",
    "\n",
    "    return xr.DataArray(ws, coords=r.coords, dims=r.dims)\n",
    "\n",
    "\n",
    "# pSDB calc, denum:green or red\n",
    "def getPsdb(b, denum, n):\n",
    "    return (np.log(n * b)) / (np.log(n * denum))\n",
    "\n",
    "\n",
    "# SDB calc\n",
    "def getSdb(pSDB, m0, m1):\n",
    "    return m1 * pSDB - m0\n",
    "\n",
    "\n",
    "# eval\n",
    "def get_sdb(data, m0, m1, use_green=True, nConst=1000, mask_by_water=True):\n",
    "    nri = data.nir\n",
    "    s1_i = data.swir16\n",
    "    s2_i = data.swir22\n",
    "    bi = data.blue\n",
    "    gi = data.green\n",
    "    ri = data.red\n",
    "\n",
    "    deNumi = ri if not use_green else gi\n",
    "\n",
    "    # Water\n",
    "    w = wbi(ri, gi, bi, nri, s1_i, s2_i)\n",
    "\n",
    "    # Probability of SDB?\n",
    "    psdb = getPsdb(bi, deNumi, nConst)\n",
    "\n",
    "    # SDB values\n",
    "    sdb = getSdb(psdb, m0, m1)\n",
    "\n",
    "    results = psdb.to_dataset(name=\"psdb\")\n",
    "    results[\"sdb\"] = sdb * -1\n",
    "\n",
    "    if mask_by_water:\n",
    "        results[\"sdb\"] = results.sdb.where(w.mean(\"time\") > 0.1)\n",
    "\n",
    "    return results"
   ]
  },
  {
   "cell_type": "code",
   "execution_count": null,
   "metadata": {},
   "outputs": [],
   "source": [
    "m1 = 155.86\n",
    "m0 = 146.46\n",
    "\n",
    "results = get_sdb(scaled, m0, m1, use_green=True, nConst=1000, mask_by_water=False)"
   ]
  },
  {
   "cell_type": "code",
   "execution_count": null,
   "metadata": {},
   "outputs": [],
   "source": [
    "results.sdb.plot.imshow(col=\"time\", col_wrap=2, robust=True, size=5)"
   ]
  },
  {
   "cell_type": "code",
   "execution_count": null,
   "metadata": {},
   "outputs": [],
   "source": [
    "final = results.sdb.mean(\"time\").to_dataset(name=\"sdb_mean\")\n",
    "final[\"sdb_std\"] = results.sdb.std(\"time\")\n",
    "for band in [\"red\", \"green\", \"blue\"]:\n",
    "    final[band] = scaled[band].median(\"time\")"
   ]
  },
  {
   "cell_type": "code",
   "execution_count": null,
   "metadata": {},
   "outputs": [],
   "source": [
    "m = folium.Map(location=[-18.1, 177.3], zoom_start=14, layer_control=True)\n",
    "\n",
    "visual = final.odc.to_rgba([\"red\", \"green\", \"blue\"], vmin=0, vmax=0.3)\n",
    "visual.odc.add_to(m, name=\"RGB\")\n",
    "\n",
    "\n",
    "final.sdb_std.odc.add_to(m, name=\"SDB Std Dev\", cmap=\"Reds\")\n",
    "final.sdb_mean.odc.add_to(m, name=\"SDB Mean\", cmap=\"Blues\")\n",
    "\n",
    "# Layer control\n",
    "folium.LayerControl().add_to(m)\n",
    "\n",
    "m"
   ]
  },
  {
   "cell_type": "code",
   "execution_count": null,
   "metadata": {},
   "outputs": [],
   "source": [
    "final.sdb_mean.odc.write_cog(\"sdb_mean.tif\", overwrite=True)"
   ]
  }
 ],
 "metadata": {
  "kernelspec": {
   "display_name": "Python 3",
   "language": "python",
   "name": "python3"
  },
  "language_info": {
   "codemirror_mode": {
    "name": "ipython",
    "version": 3
   },
   "file_extension": ".py",
   "mimetype": "text/x-python",
   "name": "python",
   "nbconvert_exporter": "python",
   "pygments_lexer": "ipython3",
   "version": "3.11.9"
  }
 },
 "nbformat": 4,
 "nbformat_minor": 2
}
