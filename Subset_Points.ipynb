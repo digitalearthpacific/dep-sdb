{
 "cells": [
  {
   "cell_type": "code",
   "execution_count": null,
   "metadata": {},
   "outputs": [],
   "source": [
    "import geopandas as gpd\n",
    "from shapely import geometry"
   ]
  },
  {
   "cell_type": "code",
   "execution_count": null,
   "metadata": {},
   "outputs": [],
   "source": [
    "# data_file = \"/Users/alex/Data/bathymetry/fiji_4326.gpkg\"\n",
    "data_file = \"/Users/alex/Data/bathymetry/TV.gpkg\"\n",
    "data = gpd.read_file(data_file)\n",
    "\n",
    "# If a value is positive, make it negative\n",
    "data['depth'] = data['depth'].apply(lambda x: x if x < 0 else -x)\n",
    "\n",
    "data"
   ]
  },
  {
   "cell_type": "code",
   "execution_count": null,
   "metadata": {},
   "outputs": [],
   "source": [
    "ll = (-8.67780,179.01156)\n",
    "ur = (-8.39978,179.23369)\n",
    "\n",
    "subset = data.cx[ll[1]:ur[1], ll[0]:ur[0]]"
   ]
  },
  {
   "cell_type": "code",
   "execution_count": null,
   "metadata": {},
   "outputs": [],
   "source": [
    "crs = 3832\n",
    "data_projected = subset.to_crs(epsg=crs)\n",
    "\n",
    "# Get the extent of the shapefile\n",
    "total_bounds = data_projected.total_bounds\n",
    "\n",
    "# Get minX, minY, maxX, maxY\n",
    "minX, minY, maxX, maxY = total_bounds\n",
    "\n",
    "# Create a fishnet\n",
    "x, y = (minX, minY)\n",
    "geom_array = []\n",
    "\n",
    "# Polygon Size\n",
    "square_size = 20\n",
    "while y <= maxY:\n",
    "    while x <= maxX:\n",
    "        geom = geometry.Polygon([(x,y), (x, y+square_size), (x+square_size, y+square_size), (x+square_size, y), (x, y)])\n",
    "        geom_array.append(geom)\n",
    "        x += square_size\n",
    "    x = minX\n",
    "    y += square_size\n",
    "\n",
    "fishnet = gpd.GeoDataFrame(geom_array, columns=['geometry']).set_crs(epsg=crs)\n",
    "\n",
    "print(f\"Created fishnet with {len(fishnet)} polygons\")"
   ]
  },
  {
   "cell_type": "code",
   "execution_count": null,
   "metadata": {},
   "outputs": [],
   "source": [
    "# Combine the fishnet with the bathymetry and get the average depth\n",
    "joined = fishnet.sjoin(data_projected, how=\"right\", predicate=\"intersects\")\n",
    "print(f\"Joined has {len(joined)} rows\")\n",
    "\n",
    "non_null = joined[joined['depth'].notna()]\n",
    "print(f\"Non-null has {len(non_null)} rows\")\n",
    "\n",
    "# Get the average depth and the geometry\n",
    "average_depth = non_null.groupby('index_left')['depth'].mean()\n",
    "print(f\"Average depth has {len(average_depth)} rows\")\n",
    "\n",
    "# Join index_left to the fishnet\n",
    "fishnet['index_left'] = fishnet.index\n",
    "fishnet = fishnet.set_index('index_left')\n",
    "joined_fishnet = fishnet.join(average_depth, how='inner')\n",
    "\n",
    "joined_fishnet[\"geometry\"] = joined_fishnet[\"geometry\"].centroid\n",
    "print(f\"Final fishnet has {len(joined_fishnet)} rows\")"
   ]
  },
  {
   "cell_type": "code",
   "execution_count": null,
   "metadata": {},
   "outputs": [],
   "source": [
    "# joined_fishnet.explore()\n",
    "\n",
    "# Get a random sample of points\n",
    "sample = joined_fishnet.sample(100)"
   ]
  },
  {
   "cell_type": "code",
   "execution_count": null,
   "metadata": {},
   "outputs": [],
   "source": [
    "joined_fishnet.to_file(\"random_forest_regressor/tuvalu_20.gpkg\", overwrite=True)\n",
    "\n",
    "print(f\"Wrote {len(average_depth)} points\")"
   ]
  }
 ],
 "metadata": {
  "kernelspec": {
   "display_name": "Python 3",
   "language": "python",
   "name": "python3"
  },
  "language_info": {
   "codemirror_mode": {
    "name": "ipython",
    "version": 3
   },
   "file_extension": ".py",
   "mimetype": "text/x-python",
   "name": "python",
   "nbconvert_exporter": "python",
   "pygments_lexer": "ipython3",
   "version": "3.11.9"
  }
 },
 "nbformat": 4,
 "nbformat_minor": 2
}
