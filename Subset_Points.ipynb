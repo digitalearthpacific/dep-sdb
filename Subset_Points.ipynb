{
 "cells": [
  {
   "cell_type": "code",
   "execution_count": null,
   "metadata": {},
   "outputs": [],
   "source": [
    "import geopandas as gpd\n",
    "from shapely import geometry\n"
   ]
  },
  {
   "cell_type": "code",
   "execution_count": null,
   "metadata": {},
   "outputs": [],
   "source": [
    "data_file = \"/Users/alex/Data/bathymetry/fiji_4326.gpkg\"\n",
    "data = gpd.read_file(data_file)\n",
    "data"
   ]
  },
  {
   "cell_type": "code",
   "execution_count": null,
   "metadata": {},
   "outputs": [],
   "source": [
    "ll = (-17.77804,177.39404)\n",
    "ur = (-17.71414,177.44241)\n",
    "\n",
    "subset = data.cx[ll[1]:ur[1], ll[0]:ur[0]]"
   ]
  },
  {
   "cell_type": "code",
   "execution_count": null,
   "metadata": {},
   "outputs": [],
   "source": [
    "data_utm = subset.to_crs(epsg=32760)\n",
    "\n",
    "# Get the extent of the shapefile\n",
    "total_bounds = data_utm.total_bounds\n",
    "\n",
    "# Get minX, minY, maxX, maxY\n",
    "minX, minY, maxX, maxY = total_bounds\n",
    "\n",
    "# Create a fishnet\n",
    "x, y = (minX, minY)\n",
    "geom_array = []\n",
    "\n",
    "# Polygon Size\n",
    "square_size = 10\n",
    "while y <= maxY:\n",
    "    while x <= maxX:\n",
    "        geom = geometry.Polygon([(x,y), (x, y+square_size), (x+square_size, y+square_size), (x+square_size, y), (x, y)])\n",
    "        geom_array.append(geom)\n",
    "        x += square_size\n",
    "    x = minX\n",
    "    y += square_size\n",
    "\n",
    "fishnet = gpd.GeoDataFrame(geom_array, columns=['geometry']).set_crs(epsg=32760)"
   ]
  },
  {
   "cell_type": "code",
   "execution_count": 61,
   "metadata": {},
   "outputs": [],
   "source": [
    "# Combine the fishnet with the bathymetry and get the average depth\n",
    "joined = fishnet.sjoin(data_utm, how=\"left\", predicate=\"intersects\")\n",
    "non_null = joined[joined['depth'].notna()]\n",
    "# joined\n",
    "grouped = non_null.groupby('index_right')\n",
    "\n",
    "# Get the average depth and the geometry\n",
    "average_depth = grouped['depth'].mean()\n",
    "average_depth = average_depth.reset_index()\n",
    "average_depth = average_depth.rename(columns={\"depth\": \"average_depth\"})\n",
    "average_depth = average_depth.merge(data_utm, left_on='index_right', right_index=True)\n",
    "average_depth = average_depth.drop(columns=['index_right', 'average_depth'])\n",
    "\n",
    "# Convert to geopandas frame\n",
    "average_depth = gpd.GeoDataFrame(average_depth, crs=32760)\n"
   ]
  },
  {
   "cell_type": "code",
   "execution_count": 62,
   "metadata": {},
   "outputs": [],
   "source": [
    "average_depth.to_file(\"random_forest_regressor/nadi.geojson\")"
   ]
  }
 ],
 "metadata": {
  "kernelspec": {
   "display_name": "Python 3",
   "language": "python",
   "name": "python3"
  },
  "language_info": {
   "codemirror_mode": {
    "name": "ipython",
    "version": 3
   },
   "file_extension": ".py",
   "mimetype": "text/x-python",
   "name": "python",
   "nbconvert_exporter": "python",
   "pygments_lexer": "ipython3",
   "version": "3.11.9"
  }
 },
 "nbformat": 4,
 "nbformat_minor": 2
}
