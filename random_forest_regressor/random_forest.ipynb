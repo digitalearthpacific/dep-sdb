{
 "cells": [
  {
   "cell_type": "code",
   "execution_count": null,
   "metadata": {},
   "outputs": [],
   "source": [
    "from pystac_client import Client\n",
    "from odc.stac import load\n",
    "\n",
    "from sklearn.ensemble import RandomForestRegressor\n",
    "\n",
    "import geopandas as gpd\n",
    "import pandas as pd\n",
    "import numpy as np\n",
    "import xarray as xr\n",
    "\n",
    "import folium"
   ]
  },
  {
   "cell_type": "code",
   "execution_count": null,
   "metadata": {},
   "outputs": [],
   "source": [
    "in_points = \"nadi.geojson\"\n",
    "\n",
    "gdf = gpd.read_file(in_points)\n",
    "gdf.explore(column=\"depth\")"
   ]
  },
  {
   "cell_type": "code",
   "execution_count": null,
   "metadata": {},
   "outputs": [],
   "source": [
    "catalog = \"https://earth-search.aws.element84.com/v1\"\n",
    "client = Client.open(catalog)\n",
    "\n",
    "# Get extents of gdf\n",
    "bbox = list(gdf.to_crs(\"epsg:4326\").total_bounds)\n",
    "\n",
    "# Expand the bbox slightly\n",
    "buffer = 0.05\n",
    "bbox[0] = bbox[0] - buffer\n",
    "bbox[1] = bbox[1] - buffer\n",
    "bbox[2] = bbox[2] + buffer\n",
    "bbox[3] = bbox[3] + buffer\n",
    "\n",
    "items = client.search(\n",
    "    collections=[\"sentinel-2-c1-l2a\"],\n",
    "    bbox=bbox,\n",
    "    datetime=\"2024-07/2024-09\",\n",
    "    query={\"eo:cloud_cover\": {\"lt\": 30}},\n",
    ").item_collection()\n",
    "\n",
    "print(f\"Found {len(items)} items\")"
   ]
  },
  {
   "cell_type": "code",
   "execution_count": null,
   "metadata": {},
   "outputs": [],
   "source": [
    "data = load(\n",
    "    items,\n",
    "    chunks={},\n",
    "    bbox=bbox,\n",
    "    groupby=\"solar_day\",\n",
    "    measurements=[\n",
    "        \"red\",\n",
    "        \"green\",\n",
    "        \"blue\",\n",
    "        \"nir\",\n",
    "        \"nir09\",\n",
    "        \"swir16\",\n",
    "        \"swir22\",\n",
    "        \"coastal\",\n",
    "        \"rededge1\",\n",
    "        \"rededge2\",\n",
    "        \"rededge3\",\n",
    "        \"scl\"\n",
    "    ]\n",
    ")\n",
    "\n",
    "# nodata, cloud shadow, medium cloud, high cloud\n",
    "mask_flags = [1, 3, 8, 9]\n",
    "cloud_mask = ~data.scl.isin(mask_flags)\n",
    "masked = data.where(cloud_mask).drop_vars(\"scl\")\n",
    "\n",
    "scaled = (masked.where(masked != 0) * 0.0001).clip(0, 1)\n",
    "\n",
    "scaled = scaled.compute()"
   ]
  },
  {
   "cell_type": "code",
   "execution_count": null,
   "metadata": {},
   "outputs": [],
   "source": [
    "scaled[[\"red\", \"green\", \"blue\"]].to_array().plot.imshow(col=\"time\", col_wrap=2, vmin=0, vmax=0.2)"
   ]
  },
  {
   "cell_type": "code",
   "execution_count": null,
   "metadata": {},
   "outputs": [],
   "source": [
    "subset = scaled.isel(time=0)\n",
    "\n",
    "reprojected_gdf = gdf.to_crs(subset.odc.crs)\n",
    "\n",
    "# Convert the geodataframe to an xarray\n",
    "pts_da = gdf.assign(x=reprojected_gdf.geometry.x, y=reprojected_gdf.geometry.y).to_xarray()\n",
    "\n",
    "# Extract values from the EO data onto the points xarray, and convert back to pandas\n",
    "pt_values_i = (\n",
    "    subset.sel(pts_da[[\"x\", \"y\"]], method=\"nearest\").squeeze().compute().to_pandas()\n",
    ")"
   ]
  },
  {
   "cell_type": "code",
   "execution_count": null,
   "metadata": {},
   "outputs": [],
   "source": [
    "training_array = pd.concat([gdf, pt_values_i], axis=1)\n",
    "training_array = training_array.drop(\n",
    "    columns=[\n",
    "        \"y\",\n",
    "        \"x\",\n",
    "        \"spatial_ref\",\n",
    "        \"time\",\n",
    "        \"geometry\",\n",
    "    ]\n",
    ")\n",
    "# Drop rows where there are any NaNs\n",
    "training_array = training_array.dropna()\n",
    "\n",
    "training_array.head()"
   ]
  },
  {
   "cell_type": "code",
   "execution_count": null,
   "metadata": {},
   "outputs": [],
   "source": [
    "training_data = np.array(training_array)[:, 1:]\n",
    "values = np.array(training_array)[:, 0]"
   ]
  },
  {
   "cell_type": "code",
   "execution_count": null,
   "metadata": {},
   "outputs": [],
   "source": [
    "regr = RandomForestRegressor(\n",
    "    n_estimators=1000,\n",
    "    # criterion=\"friedman_mse\",\n",
    "    max_depth=10,\n",
    "    random_state=0\n",
    ")\n",
    "\n",
    "model = regr.fit(training_data, values)"
   ]
  },
  {
   "cell_type": "code",
   "execution_count": null,
   "metadata": {},
   "outputs": [],
   "source": [
    "predictions = []\n",
    "\n",
    "for i in range(len(scaled.time)):\n",
    "    one_time = scaled.isel(time=i)\n",
    "    stacked_arrays = one_time.to_array().stack(dims=[\"y\", \"x\"]).transpose()\n",
    "    \n",
    "    p = model.predict(stacked_arrays)\n",
    "    array = p.reshape(len(masked.y), len(masked.x))\n",
    "    predictions.append(xr.DataArray(\n",
    "        array, coords={\"x\": masked.x, \"y\": masked.y}, dims=[\"y\", \"x\"]\n",
    "    ))\n",
    "\n",
    "print(f\"Completed predicting {len(scaled.time)} time slices\")"
   ]
  },
  {
   "cell_type": "code",
   "execution_count": null,
   "metadata": {},
   "outputs": [],
   "source": [
    "# Combine predictions into an xarray\n",
    "predicted = xr.concat(predictions, dim=scaled.time).to_dataset(name=\"depth\")\n",
    "predicted = predicted.where(cloud_mask)"
   ]
  },
  {
   "cell_type": "code",
   "execution_count": null,
   "metadata": {},
   "outputs": [],
   "source": [
    "predicted.depth.plot.imshow(col=\"time\", col_wrap=2, cmap=\"viridis\")"
   ]
  },
  {
   "cell_type": "code",
   "execution_count": null,
   "metadata": {},
   "outputs": [],
   "source": [
    "mean = predicted.depth.mean(dim=\"time\")"
   ]
  },
  {
   "cell_type": "code",
   "execution_count": null,
   "metadata": {},
   "outputs": [],
   "source": [
    "out_da = out.reshape(len(masked.y), len(masked.x))\n",
    "\n",
    "prediction = xr.DataArray(\n",
    "    out_da, coords={\"x\": masked.x, \"y\": masked.y}, dims=[\"y\", \"x\"]\n",
    ").to_dataset(name=\"depth\")\n",
    "\n",
    "_ = prediction.depth.plot.hist(bins=50)"
   ]
  },
  {
   "cell_type": "code",
   "execution_count": null,
   "metadata": {},
   "outputs": [],
   "source": [
    "# Closer to 1 is better\n",
    "model.score(training_data, values)"
   ]
  },
  {
   "cell_type": "code",
   "execution_count": null,
   "metadata": {},
   "outputs": [],
   "source": [
    "coords = (bbox[1] + bbox[3])/2, (bbox[0] + bbox[2])/2\n",
    "m = folium.Map(location=coords, zoom_start=14, layer_control=True)\n",
    "\n",
    "visual = subset.odc.to_rgba([\"red\", \"green\", \"blue\"], vmin=0, vmax=0.3)\n",
    "visual.odc.add_to(m, name=\"RGB\")\n",
    "\n",
    "predicted.isel(time=0).depth.odc.add_to(m, name=\"Depth\", cmap=\"Blues_r\")\n",
    "mean.odc.add_to(m, name=\"Mean Depth\", cmap=\"Blues_r\")\n",
    "\n",
    "# Layer control\n",
    "folium.LayerControl().add_to(m)\n",
    "\n",
    "m"
   ]
  },
  {
   "cell_type": "code",
   "execution_count": null,
   "metadata": {},
   "outputs": [],
   "source": [
    "pts_da = gdf.assign(x=reprojected_gdf.geometry.x, y=reprojected_gdf.geometry.y).to_xarray()\n",
    "\n",
    "# Extract values from the EO data onto the points xarray, and convert back to pandas\n",
    "compare_depths = (\n",
    "    prediction.depth.sel(pts_da[[\"x\", \"y\"]], method=\"nearest\").squeeze().compute().to_pandas()\n",
    ").rename(\"depth_computed\")\n",
    "\n",
    "appended = pd.concat([gdf, compare_depths], axis=1)\n",
    "\n",
    "appended[\"error\"] = appended.depth - appended.depth_computed\n",
    "\n",
    "appended[\"error\"].hist(bins=20)"
   ]
  },
  {
   "cell_type": "code",
   "execution_count": null,
   "metadata": {},
   "outputs": [],
   "source": [
    "mean.odc.write_cog(\"depth_random_forest_nadi.tif\", overwrite=True)"
   ]
  }
 ],
 "metadata": {
  "kernelspec": {
   "display_name": "Python 3",
   "language": "python",
   "name": "python3"
  },
  "language_info": {
   "codemirror_mode": {
    "name": "ipython",
    "version": 3
   },
   "file_extension": ".py",
   "mimetype": "text/x-python",
   "name": "python",
   "nbconvert_exporter": "python",
   "pygments_lexer": "ipython3",
   "version": "3.11.9"
  }
 },
 "nbformat": 4,
 "nbformat_minor": 2
}
